{
 "cells": [
  {
   "cell_type": "code",
   "execution_count": 1,
   "metadata": {},
   "outputs": [],
   "source": [
    "import warnings\n",
    "warnings.simplefilter(action='ignore', category=FutureWarning)\n",
    "\n",
    "import pandas\n",
    "import pandas as pd\n",
    "\n",
    "\n",
    "df = pd.read_csv('data (1).csv')\n",
    "df.drop(df.filter(regex=\"Unname\"),axis=1, inplace=True)\n",
    "#print(df)\n",
    "#df = df.dropna(thresh=1500, axis=0)\n",
    "#print(df)\n",
    "#df = df.dropna(axis=0)\n",
    "y = df.diagnosis.replace({'B': 1, 'M': 0})\n",
    "\"\"\" for i in range(0,len(y)):\n",
    "    if y.loc[i] == 'M':\n",
    "        y.loc[i] = 1\n",
    "    if y.loc[i] == 'B':\n",
    "        y.loc[i] = 0  \"\"\"\n",
    "x = df\n",
    "x = x.drop('diagnosis', axis=1)\n",
    "x = x.drop('id',axis=1)\n",
    "\n",
    "#print(x)\n",
    "#print(y)\n",
    "\n",
    "\n"
   ]
  },
  {
   "cell_type": "code",
   "execution_count": 2,
   "metadata": {},
   "outputs": [],
   "source": [
    "# Import train_test_split function\n",
    "from sklearn.model_selection import train_test_split\n",
    "\n",
    "# Split dataset into training set and test set\n",
    "X_train, X_test, y_train, y_test = train_test_split(x, y, test_size=0.3,random_state=109) # 70% training and 30% test\n",
    "\n",
    "#Import svm model\n",
    "from sklearn import svm\n",
    "\n",
    "#Create linear\n",
    "linear = svm.SVC(kernel='linear')\n",
    "linear.fit(X_train, y_train)\n",
    "y_pred_linear = linear.predict(X_test)\n",
    "\n",
    "#Create poly\n",
    "poly = svm.SVC(kernel='poly')\n",
    "poly.fit(X_train, y_train)\n",
    "y_pred_poly = poly.predict(X_test)\n",
    "\n",
    "#Create rbf\n",
    "rbf = svm.SVC(kernel='rbf')\n",
    "rbf.fit(X_train, y_train)\n",
    "y_pred_rbf = rbf.predict(X_test)\n",
    "\n",
    "#Create sigmoid\n",
    "sigmoid = svm.SVC(kernel='sigmoid')\n",
    "sigmoid.fit(X_train, y_train)\n",
    "y_pred_sigmoid = sigmoid.predict(X_test)\n"
   ]
  },
  {
   "cell_type": "code",
   "execution_count": 3,
   "metadata": {},
   "outputs": [
    {
     "name": "stdout",
     "output_type": "stream",
     "text": [
      "linear\n",
      "Accuracy: 0.9649122807017544\n",
      "Precision: 0.9811320754716981\n",
      "Recall: 0.9629629629629629\n",
      "poly\n",
      "Accuracy: 0.9181286549707602\n",
      "Precision: 0.8852459016393442\n",
      "Recall: 1.0\n",
      "rbf\n",
      "Accuracy: 0.9239766081871345\n",
      "Precision: 0.8925619834710744\n",
      "Recall: 1.0\n",
      "sigmoid\n",
      "Accuracy: 0.39766081871345027\n",
      "Precision: 0.5210084033613446\n",
      "Recall: 0.5740740740740741\n"
     ]
    }
   ],
   "source": [
    "#Import scikit-learn metrics module for accuracy calculation\n",
    "from sklearn import metrics\n",
    "\n",
    "\n",
    "def printMetrics(y_test, y_pred):\n",
    "    print(\"Accuracy:\",metrics.accuracy_score(y_test, y_pred))\n",
    "    print(\"Precision:\",metrics.precision_score(y_test, y_pred))\n",
    "    print(\"Recall:\",metrics.recall_score(y_test, y_pred))\n",
    "\n",
    "print(\"linear\")\n",
    "printMetrics(y_test,y_pred_linear)\n",
    "print(\"poly\")\n",
    "printMetrics(y_test,y_pred_poly)\n",
    "print(\"rbf\")\n",
    "printMetrics(y_test,y_pred_rbf)\n",
    "print(\"sigmoid\")\n",
    "printMetrics(y_test,y_pred_sigmoid)\n"
   ]
  },
  {
   "cell_type": "code",
   "execution_count": 4,
   "metadata": {},
   "outputs": [
    {
     "name": "stdout",
     "output_type": "stream",
     "text": [
      "Fitting 5 folds for each of 48 candidates, totalling 240 fits\n",
      "{'C': 100, 'gamma': 1, 'kernel': 'linear'}\n",
      "              precision    recall  f1-score   support\n",
      "\n",
      "           0       0.94      0.98      0.96        63\n",
      "           1       0.99      0.96      0.98       108\n",
      "\n",
      "    accuracy                           0.97       171\n",
      "   macro avg       0.96      0.97      0.97       171\n",
      "weighted avg       0.97      0.97      0.97       171\n",
      "\n"
     ]
    }
   ],
   "source": [
    "from sklearn.model_selection import GridSearchCV\n",
    "from sklearn.metrics import classification_report\n",
    "\n",
    "\"\"\" tunningParams = { 'C': [0.1, 1, 10, 100],  \n",
    "   'gamma': [1, 0.1, 0.01, 0.001],\n",
    "   'kernel': ['rbf','linear','sigmoid','poly'],\n",
    "   'degree': [3,4,5]  \n",
    "    } \n",
    " \"\"\"\n",
    "tunningParams = { 'C': [0.1, 1, 10, 100],  \n",
    "   'gamma': [1, 0.1, 0.01, 0.001],\n",
    "   'kernel': ['rbf','sigmoid','linear']\n",
    "    }\n",
    "grid = GridSearchCV(svm.SVC(), tunningParams, refit = True, verbose = 3,n_jobs=8) \n",
    "   \n",
    "# fitting the model for grid search \n",
    "grid.fit(X_train, y_train) \n",
    " \n",
    "# print best parameter after tuning \n",
    "print(grid.best_params_) \n",
    "grid_predictions = grid.predict(X_test) \n",
    "   \n",
    "# print classification report \n",
    "print(classification_report(y_test, grid_predictions))"
   ]
  },
  {
   "cell_type": "code",
   "execution_count": 5,
   "metadata": {},
   "outputs": [
    {
     "data": {
      "text/plain": [
       "' #Import scikit-learn dataset library\\nfrom sklearn import datasets\\n\\n#Load dataset\\ncancer = datasets.load_breast_cancer()\\n# Import train_test_split function\\nfrom sklearn.model_selection import train_test_split\\n\\n# Split dataset into training set and test set\\nX_train, X_test, y_train, y_test = train_test_split(cancer.data, cancer.target, test_size=0.3,random_state=109) # 70% training and 30% test\\n#Import svm model\\nfrom sklearn import svm\\n\\n#Create a svm Classifier\\nclf = svm.SVC(kernel=\\'linear\\') # Linear Kernel\\n\\n#Train the model using the training sets\\nclf.fit(X_train, y_train)\\n\\n#Predict the response for test dataset\\ny_pred = clf.predict(X_test)\\n#Import scikit-learn metrics module for accuracy calculation\\nfrom sklearn import metrics\\n\\n# Model Accuracy: how often is the classifier correct?\\nprint(\"Accuracy:\",metrics.accuracy_score(y_test, y_pred))\\n# Model Precision: what percentage of positive tuples are labeled as such?\\nprint(\"Precision:\",metrics.precision_score(y_test, y_pred))\\n\\n# Model Recall: what percentage of positive tuples are labelled as such?\\nprint(\"Recall:\",metrics.recall_score(y_test, y_pred)) '"
      ]
     },
     "execution_count": 5,
     "metadata": {},
     "output_type": "execute_result"
    }
   ],
   "source": [
    "\"\"\" #Import scikit-learn dataset library\n",
    "from sklearn import datasets\n",
    "\n",
    "#Load dataset\n",
    "cancer = datasets.load_breast_cancer()\n",
    "# Import train_test_split function\n",
    "from sklearn.model_selection import train_test_split\n",
    "\n",
    "# Split dataset into training set and test set\n",
    "X_train, X_test, y_train, y_test = train_test_split(cancer.data, cancer.target, test_size=0.3,random_state=109) # 70% training and 30% test\n",
    "#Import svm model\n",
    "from sklearn import svm\n",
    "\n",
    "#Create a svm Classifier\n",
    "clf = svm.SVC(kernel='linear') # Linear Kernel\n",
    "\n",
    "#Train the model using the training sets\n",
    "clf.fit(X_train, y_train)\n",
    "\n",
    "#Predict the response for test dataset\n",
    "y_pred = clf.predict(X_test)\n",
    "#Import scikit-learn metrics module for accuracy calculation\n",
    "from sklearn import metrics\n",
    "\n",
    "# Model Accuracy: how often is the classifier correct?\n",
    "print(\"Accuracy:\",metrics.accuracy_score(y_test, y_pred))\n",
    "# Model Precision: what percentage of positive tuples are labeled as such?\n",
    "print(\"Precision:\",metrics.precision_score(y_test, y_pred))\n",
    "\n",
    "# Model Recall: what percentage of positive tuples are labelled as such?\n",
    "print(\"Recall:\",metrics.recall_score(y_test, y_pred)) \"\"\"\n"
   ]
  },
  {
   "cell_type": "code",
   "execution_count": 6,
   "metadata": {},
   "outputs": [
    {
     "name": "stdout",
     "output_type": "stream",
     "text": [
      "huh\n"
     ]
    },
    {
     "data": {
      "image/png": "[encoded data removed]",
      "text/plain": [
       "<Figure size 640x480 with 1 Axes>"
      ]
     },
     "metadata": {},
     "output_type": "display_data"
    },
    {
     "data": {
      "text/plain": [
       "<matplotlib.legend.Legend at 0x252113fb5b0>"
      ]
     },
     "execution_count": 6,
     "metadata": {},
     "output_type": "execute_result"
    },
    {
     "data": {
      "image/png": "[encoded data removed]",
      "text/plain": [
       "<Figure size 640x480 with 1 Axes>"
      ]
     },
     "metadata": {},
     "output_type": "display_data"
    }
   ],
   "source": [
    "import matplotlib.pyplot as plt\n",
    "import math\n",
    "import numpy as np\n",
    "df = pd.read_csv('data.csv')\n",
    "df.drop(df.filter(regex=\"Unname\"),axis=1, inplace=True)\n",
    "x = df.x\n",
    "y = df.y\n",
    "# Split dataset into training set and test set\n",
    "X_train, X_test, y_train, y_test = train_test_split(x, y, test_size=0.3,random_state=109) # 70% training and 30% test\n",
    "#plt.scatter(X_train,y_train)\n",
    "#plt.show()\n",
    "#Gaussioan RBF\n",
    "def Gauss_k(x,y):\n",
    "    #return np.exp(-0.5*np.linalg.norm(x-y))\n",
    "    return np.exp(-0.5 * ((x - y) /0.6) ** 2)\n",
    "    #return math.e**-(gamma*(x-y)**2)\n",
    "\n",
    "def linear_K(x,y):\n",
    "    return x*y\n",
    "\n",
    "def rbf_k(x,y):\n",
    "    return np.exp(-0.5*abs(x - y)**2)\n",
    "    #return np.exp(-0.5 * ((np.linalg.norm(x - y)) / 0.2) ** 2)\n",
    "\n",
    "\n",
    "def poly_k(x,y):    \n",
    "    return (np.dot(x,y) + 0.5) ** 4\n",
    "\n",
    "\"\"\" y_pred_mine = np.zeros(X_test.shape[0])\n",
    "for i in range(X_test.shape[0]-1):\n",
    "        #print(Gauss_k(X_test.iloc[i],X_test.iloc[i]))\n",
    "    for j in range(len(alpha)):\n",
    "        y_pred_mine[i] += alpha[j] * linear_K(X_test.iloc[i],K[i,j]) \"\"\"\n",
    "\n",
    "K=np.zeros((X_train.shape[0],X_train.shape[0]))\n",
    "for i in range(X_train.shape[0]):\n",
    "    for j in range(X_train.shape[0]):\n",
    "        #print(\"from \",X_train.iloc[i],X_train.iloc[j],\"We get\",Gauss_k(X_train.iloc[i],X_train.iloc[j]))\n",
    "        K[i,j]=Gauss_k(X_train.iloc[i],X_train.iloc[j])\n",
    "print(\"huh\")\n",
    "alpha = abs((np.linalg.inv(K+np.identity(X_train.shape[0]))).dot(y_train))\n",
    "#alpha = np.linalg.solve(K, y_train)\n",
    "#print(alpha)\n",
    "y_pred_gaus = []\n",
    "for i in X_test:\n",
    "    weights = np.array([Gauss_k(i,xt) for xt in X_train])    \n",
    "    #y_pred_mine.append(np.sum(weights*y_train)/np.sum(weights))\n",
    "    #weights = np.array([linear_K(i, xt) for xt in X_train])\n",
    "    #weighted_sum = np.sum(weights * y_train) / np.sum(weights)\n",
    "    #print(weights)\n",
    "    y_pred_gaus.append(weights.dot(alpha))\n",
    "    #print(weights.dot(alpha))\n",
    "\n",
    "\n",
    "\n",
    "\n",
    "K=np.zeros((X_train.shape[0],X_train.shape[0]))\n",
    "for i in range(X_train.shape[0]):\n",
    "    for j in range(X_train.shape[0]):\n",
    "        K[i,j]=rbf_k(X_train.iloc[i],X_train.iloc[j])\n",
    "alpha = abs((np.linalg.inv(K+np.identity(X_train.shape[0]))).dot(y_train))\n",
    "y_pred_rbf_k = []\n",
    "for i in X_test:\n",
    "    weights = np.array([rbf_k(i,xt) for xt in X_train])        \n",
    "    y_pred_rbf_k.append(weights.dot(alpha))\n",
    "\n",
    "\n",
    "\n",
    "K=np.zeros((X_train.shape[0],X_train.shape[0]))\n",
    "for i in range(X_train.shape[0]):\n",
    "    for j in range(X_train.shape[0]):\n",
    "        K[i,j]=poly_k(X_train.iloc[i],X_train.iloc[j])\n",
    "alpha = abs((np.linalg.inv(K+np.identity(X_train.shape[0]))).dot(y_train))\n",
    "y_pred_poly= []\n",
    "for i in X_test:\n",
    "    weights = np.array([poly_k(i,xt) for xt in X_train])    \n",
    "    y_pred_poly.append(weights.dot(alpha))\n",
    "\n",
    "\n",
    "\"\"\" weights = np.array([self.gaussian_kernel(x, x_train) for x_train in self.X_train])\n",
    "weighted_sum = np.sum(weights * self.y_train) / np.sum(weights) \"\"\"\n",
    "#print(len(y_pred_mine))\n",
    "#print(len(X_test))\n",
    "#print(y_pred_mine)\n",
    "#plt.scatter(X_train,y_train,label=\"train\")\n",
    "plt.scatter(X_test,y_pred_gaus,label=\"gauss kernel\")\n",
    "plt.scatter(X_test,y_pred_rbf_k,label=\"rbf kernel\")\n",
    "#plt.scatter(X_test,y_pred_poly,label=\"poly kernel\")\n",
    "plt.scatter(X_test,y_test,label=\"test_data\")\n",
    "plt.legend()\n",
    "plt.show()\n",
    "\"\"\" def show(x_sample,y,a=0,b=0, x_2=None,y_2=None):\n",
    "    if b !=0:\n",
    "        plt.plot(x_sample,a+b*x_sample , c='red')\n",
    "\n",
    "    if x_2 is not None:\n",
    "        plt.plot(x_2,y_2, c='red')\n",
    "    plt.scatter(x_sample, y)\n",
    "    plt.show()\n",
    "\n",
    "a = np.linalg.inv(K+0.1*np.eye(K.shape[0]))\n",
    "m=np.dot(y_train,a)\n",
    "\n",
    "\n",
    "x_pred=X_train\n",
    "y_pred=y_train\n",
    "for outer_i, x_p in enumerate(x_pred):\n",
    "    k = np.zeros(x.shape[0])\n",
    "    for i, row in enumerate(k):\n",
    "        k[i]=Gauss_k(x_p,x.iloc[i])\n",
    "    y_pred.iloc[outer_i]=np.dot(m,k)\n",
    "\n",
    "show(x[:,0],y,x_2=x_pred[:,0],y_2=y_pred) \"\"\"\n",
    "\n",
    "plt.scatter(X_test,y_pred_poly,label=\"poly kernel\")\n",
    "plt.legend()"
   ]
  }
 ],
 "metadata": {
  "kernelspec": {
   "display_name": "Python 3",
   "language": "python",
   "name": "python3"
  },
  "language_info": {
   "codemirror_mode": {
    "name": "ipython",
    "version": 3
   },
   "file_extension": ".py",
   "mimetype": "text/x-python",
   "name": "python",
   "nbconvert_exporter": "python",
   "pygments_lexer": "ipython3",
   "version": "3.10.5"
  }
 },
 "nbformat": 4,
 "nbformat_minor": 2
}
